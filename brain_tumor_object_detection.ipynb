{
 "cells": [
  {
   "cell_type": "code",
   "execution_count": 24,
   "metadata": {},
   "outputs": [],
   "source": [
    "import os\n",
    "import numpy as np\n",
    "import pandas as pd\n",
    "import pydicom\n",
    "import matplotlib.pyplot as plt\n",
    "import cv2\n",
    "import shutil\n",
    "from shutil import copyfile\n",
    "from os import path"
   ]
  },
  {
   "cell_type": "code",
   "execution_count": 25,
   "metadata": {},
   "outputs": [],
   "source": [
    "predict_dir = '../brain_tumor_object_detection/predict/080124AIIMSD00001'\n",
    "label_dir = '../brain_tumor_object_detection/yolov5/runs/detect/exp/labels'\n",
    "image_dir = '../brain_tumor_object_detection/yolov5/runs/detect/exp'"
   ]
  },
  {
   "cell_type": "code",
   "execution_count": 26,
   "metadata": {},
   "outputs": [],
   "source": [
    "# Make a dir to export jpgs to\n",
    "if not os.path.exists(f'{predict_dir}'):\n",
    "    os.mkdir(f'{predict_dir}')"
   ]
  },
  {
   "cell_type": "code",
   "execution_count": 27,
   "metadata": {},
   "outputs": [],
   "source": [
    "# Copy YOLO\n",
    "if not os.path.exists('../brain_tumor_object_detection/yolov5'):\n",
    "    shutil.copytree('../brain_tumor_object_detection/yolov5-official-v31-dataset/yolov5', '../brain_tumor_object_detection/yolov5')"
   ]
  },
  {
   "cell_type": "code",
   "execution_count": 28,
   "metadata": {},
   "outputs": [],
   "source": [
    "# This function gives a basic plane from the ImageOrientationPatient tag. It doesn't account for obliqueness. But we don't need to care about it.\n",
    "# Will return 'unknown' if the image isn't exactly orthogonal.\n",
    "def get_image_plane(loc):\n",
    "    row_x = round(loc[0])\n",
    "    row_y = round(loc[1])\n",
    "    row_z = round(loc[2])\n",
    "    col_x = round(loc[3])\n",
    "    col_y = round(loc[4])\n",
    "    col_z = round(loc[5])\n",
    "    if (row_x, row_y, col_x, col_y) == (1,0,0,0):\n",
    "        return \"coronal\"\n",
    "    if (row_x, row_y, col_x, col_y) == (0,1,0,0):\n",
    "        return \"sagittal\"\n",
    "    if (row_x, row_y, col_x, col_y) == (1,0,0,1):\n",
    "        return \"axial\"\n",
    "    return \"Unknown\""
   ]
  },
  {
   "cell_type": "code",
   "execution_count": 29,
   "metadata": {},
   "outputs": [],
   "source": [
    "# Call yolo detect.py on an image\n",
    "def detect(plane):\n",
    "    !python ../brain_tumor_object_detection/yolov5/detect.py --source {predict_dir} --weights ../brain_tumor_object_detection/output/{plane}_t1wce_2_class.pt --img 512 --exist-ok --save-txt "
   ]
  },
  {
   "cell_type": "code",
   "execution_count": 30,
   "metadata": {},
   "outputs": [],
   "source": [
    "# Delete all images and labels\n",
    "def cleanup():\n",
    "    if os.path.exists(label_dir):\n",
    "        filelist = [ f for f in os.listdir(label_dir) if f.endswith(\".txt\") ]\n",
    "        for f in filelist:\n",
    "            os.remove(os.path.join(label_dir, f))\n",
    "\n",
    "        filelist = [ f for f in os.listdir(image_dir) if f.endswith(\".jpg\") ]\n",
    "        for f in filelist:\n",
    "            os.remove(os.path.join(image_dir, f))\n",
    "            \n",
    "    filelist = [ f for f in os.listdir(predict_dir) if f.endswith(\".jpg\") ]\n",
    "    for f in filelist:\n",
    "        os.remove(os.path.join(predict_dir, f)) "
   ]
  },
  {
   "cell_type": "code",
   "execution_count": 31,
   "metadata": {},
   "outputs": [],
   "source": [
    "def detect_tumor(study, image_number):\n",
    "\n",
    "    # Make sure there aren't files hanging around from the last run\n",
    "    cleanup()\n",
    "\n",
    "    # Load an image\n",
    "    image = pydicom.dcmread(f'../brain_tumor_object_detection/RSNA_MICCAI_Brain_Tumor_Radiogenomic_Classification/train/{study}/T1wCE/Image-{image_number}.dcm')\n",
    "    pixels = image.pixel_array\n",
    "\n",
    "    # Crunch pixels down to 8 bit\n",
    "    pixels = pixels - np.min(pixels)\n",
    "    pixels = pixels / np.max(pixels)\n",
    "    pixels = (pixels * 255).astype(np.uint8)\n",
    "\n",
    "    # Get the plane\n",
    "    plane = get_image_plane(image.ImageOrientationPatient)\n",
    "    print(\"Plane:\", plane)\n",
    "\n",
    "    # Expor the image as a JPG\n",
    "    filename = f'{predict_dir}/{study}_t1wce_{image_number}.jpeg'\n",
    "    cv2.imwrite(filename, pixels)\n",
    "    \n",
    "    # Run YOLO detect on the exported image\n",
    "    detect(plane)\n",
    "    \n",
    "    # Get the YOLO image and label/BB coords .. if they exist\n",
    "    image_name = f'{image_dir}/{study}_t1wce_{image_number}.jpeg'\n",
    "    if os.path.isfile(image_name):\n",
    "        img = cv2.imread(image_name)\n",
    "\n",
    "        label_name = f'{label_dir}/{study}_t1wce_{image_number}.txt'\n",
    "        if os.path.isfile(label_name):\n",
    "            label_file = open(label_name, \"r\")\n",
    "            label_text = label_file.read()\n",
    "\n",
    "            fig, axes = plt.subplots(nrows=1, ncols=2,sharex=False, sharey=False, figsize=(10, 10))\n",
    "            ax = axes.ravel()\n",
    "            ax[0].set_title('Original')\n",
    "            ax[0].imshow(pixels, cmap='gray')\n",
    "            ax[1].set_title('OD Detect')\n",
    "            ax[1].imshow(img, cmap='gray')\n",
    "\n",
    "            plt.tight_layout()\n",
    "            plt.show()\n",
    "\n",
    "            print(\"Label/BB coords:\", label_text)\n",
    "        else:\n",
    "            plt.figure(figsize= (6,6))\n",
    "            plt.title('No Tumor Detected')\n",
    "            plt.imshow(pixels, cmap='gray');"
   ]
  },
  {
   "cell_type": "code",
   "execution_count": null,
   "metadata": {},
   "outputs": [],
   "source": [
    "# Specify a study,series and image number and call the main function\n",
    "study = '00414'\n",
    "image_number = '98'\n",
    "\n",
    "detect_tumor(study, image_number)"
   ]
  }
 ],
 "metadata": {
  "kernelspec": {
   "display_name": "samyolo",
   "language": "python",
   "name": "python3"
  },
  "language_info": {
   "codemirror_mode": {
    "name": "ipython",
    "version": 3
   },
   "file_extension": ".py",
   "mimetype": "text/x-python",
   "name": "python",
   "nbconvert_exporter": "python",
   "pygments_lexer": "ipython3",
   "version": "3.8.19"
  }
 },
 "nbformat": 4,
 "nbformat_minor": 2
}
